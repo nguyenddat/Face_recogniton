{
 "cells": [
  {
   "cell_type": "code",
   "execution_count": 105,
   "metadata": {},
   "outputs": [],
   "source": [
    "import numpy as np\n",
    "from math import *"
   ]
  },
  {
   "cell_type": "code",
   "execution_count": 106,
   "metadata": {},
   "outputs": [],
   "source": [
    "data = np.array([[200, 800, 200, 800], [0.2, 0.2, 0.8, 0.8]])\n",
    "labels = np.array([[-1, -1, 1, 1]])"
   ]
  },
  {
   "cell_type": "code",
   "execution_count": 127,
   "metadata": {},
   "outputs": [],
   "source": [
    "def perceptron(data, labels, params = {}, hook = None):\n",
    "    T = params.get(\"T\", 50)\n",
    "    \n",
    "    data_ext = np.vstack((\n",
    "        data,\n",
    "        np.ones((1, data.shape[1]))\n",
    "    ))\n",
    "    th = np.zeros((data.shape[0] + 1, 1))\n",
    "    mistakes = 0\n",
    "    for i in range(T):\n",
    "        for j in range(data.shape[1]):\n",
    "            xi = data_ext[:, j: j+1]\n",
    "            yi = labels[0, j:j+1]\n",
    "            if yi * (th.T @ xi) <= 0:\n",
    "                th += yi * xi\n",
    "                mistakes += 1\n",
    "    return mistakes, th\n",
    "\n",
    "def signed_distance(x, th):\n",
    "    th_norm = np.linalg.norm(th)\n",
    "    return (th.T @ x) / th_norm\n",
    "\n",
    "def margin(data, th):\n",
    "    res = float(inf)\n",
    "    for i in range(data.shape[1]):\n",
    "        dist = abs(signed_distance(data[:, i], th))\n",
    "        if dist < res:\n",
    "            res = dist\n",
    "    return res\n",
    "\n",
    "def r_bound(data):\n",
    "    r_max = -inf\n",
    "    for i in range(data.shape[1]):\n",
    "        xi = data[:, i]\n",
    "        dist = np.linalg.norm(xi)\n",
    "        if dist > r_max:\n",
    "            r_max = dist\n",
    "    return r_max"
   ]
  },
  {
   "cell_type": "code",
   "execution_count": 122,
   "metadata": {},
   "outputs": [
    {
     "data": {
      "text/plain": [
       "array([[-2.000000e+02],\n",
       "       [ 2.000068e+05],\n",
       "       [-4.000000e+00]])"
      ]
     },
     "execution_count": 122,
     "metadata": {},
     "output_type": "execute_result"
    }
   ],
   "source": [
    "mistakes, org_th = perceptron(\n",
    "    data = data,\n",
    "    labels = labels,\n",
    "    params = {\"T\": 2000000}\n",
    ")\n",
    "org_th"
   ]
  },
  {
   "cell_type": "code",
   "execution_count": 128,
   "metadata": {},
   "outputs": [
    {
     "data": {
      "text/plain": [
       "array([0.19917993])"
      ]
     },
     "execution_count": 128,
     "metadata": {},
     "output_type": "execute_result"
    }
   ],
   "source": [
    "new_data = np.vstack((\n",
    "    0.001 * data[0, :],\n",
    "    data[1:, :],\n",
    "    np.ones((1, data.shape[1]))\n",
    "))\n",
    "\n",
    "margin_ = margin(new_data, org_th)\n",
    "margin_"
   ]
  },
  {
   "cell_type": "code",
   "execution_count": 124,
   "metadata": {},
   "outputs": [],
   "source": [
    "mistakes, new_th = perceptron(\n",
    "    data = new_data,\n",
    "    labels = labels,\n",
    "    params = {\"T\": 2000000}\n",
    ")"
   ]
  },
  {
   "cell_type": "code",
   "execution_count": 125,
   "metadata": {},
   "outputs": [
    {
     "name": "stdout",
     "output_type": "stream",
     "text": [
      "[57.47033171]\n"
     ]
    }
   ],
   "source": [
    "r = r_bound(new_data)\n",
    "print((r / margin_) ** 2)"
   ]
  },
  {
   "cell_type": "code",
   "execution_count": 126,
   "metadata": {},
   "outputs": [
    {
     "data": {
      "text/plain": [
       "1.50996688705415"
      ]
     },
     "execution_count": 126,
     "metadata": {},
     "output_type": "execute_result"
    }
   ],
   "source": [
    "r"
   ]
  },
  {
   "cell_type": "code",
   "execution_count": null,
   "metadata": {},
   "outputs": [],
   "source": []
  }
 ],
 "metadata": {
  "kernelspec": {
   "display_name": "Python 3",
   "language": "python",
   "name": "python3"
  },
  "language_info": {
   "codemirror_mode": {
    "name": "ipython",
    "version": 3
   },
   "file_extension": ".py",
   "mimetype": "text/x-python",
   "name": "python",
   "nbconvert_exporter": "python",
   "pygments_lexer": "ipython3",
   "version": "3.12.6"
  }
 },
 "nbformat": 4,
 "nbformat_minor": 2
}
